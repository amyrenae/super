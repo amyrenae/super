{
 "cells": [
  {
   "cell_type": "code",
   "execution_count": 1,
   "metadata": {},
   "outputs": [],
   "source": [
    "import pandas as pd\n",
    "import numpy as np\n",
    "import matplotlib.pyplot as plt\n",
    "import seaborn as sns\n",
    "import scipy\n",
    "from matplotlib.colors import ListedColormap\n",
    "from matplotlib.ticker import StrMethodFormatter\n",
    "import matplotlib.ticker as mtick\n",
    "from bokeh.palettes import viridis\n",
    "import statsmodels.api as sm\n",
    "from sklearn import datasets"
   ]
  },
  {
   "cell_type": "code",
   "execution_count": 2,
   "metadata": {},
   "outputs": [
    {
     "data": {
      "text/html": [
       "<style>\n",
       "/* Any CSS style can go in here. */\n",
       ".dataframe th {\n",
       "    font-size: 14px;\n",
       "}\n",
       ".dataframe td {\n",
       "    font-size: 13px;\n",
       "}\n",
       "</style>\n"
      ],
      "text/plain": [
       "<IPython.core.display.HTML object>"
      ]
     },
     "metadata": {},
     "output_type": "display_data"
    }
   ],
   "source": [
    "%%html\n",
    "<style>\n",
    "/* Any CSS style can go in here. */\n",
    ".dataframe th {\n",
    "    font-size: 14px;\n",
    "}\n",
    ".dataframe td {\n",
    "    font-size: 13px;\n",
    "}\n",
    "</style>"
   ]
  },
  {
   "cell_type": "code",
   "execution_count": 3,
   "metadata": {
    "collapsed": false,
    "jupyter": {
     "outputs_hidden": false
    }
   },
   "outputs": [],
   "source": [
    "df_olymp = pd.read_csv('athlete_events.csv', index_col='ID')\n",
    "df_regions = pd.read_csv('noc_regions.csv', index_col='NOC')\n",
    "pd.options.display.max_rows = 1000"
   ]
  },
  {
   "cell_type": "markdown",
   "metadata": {},
   "source": [
    "### Region Dictionary to Dataframe"
   ]
  },
  {
   "cell_type": "code",
   "execution_count": 4,
   "metadata": {},
   "outputs": [],
   "source": [
    "Africa = {\"Eastern Africa\": [\"Burundi\", \"Comoros\", \"Djibouti\", \"Eritrea\", \"Ethiopia\", \"Kenya\",\"Madagascar\", \"Malawi\",\n",
    "                             \"Mauritius\", \"Mayotte\", \"Mozambique\", \"Reunion\", \"Rwanda\", \"Seychelles\", \"Somalia\", \"South Sudan\",\n",
    "                             \"Uganda\", \"Tanzania\", \"Zambia\", \"Zimbabwe\"],\n",
    "          \"Middle Africa\": [\"Angola\", \"Cameroon\", \"Central African Republic\", \"Chad\", \"Republic of Congo\",\n",
    "                            \"Democratic Republic of the Congo\", \"Equatorial Guinea\", \"Gabon\", \"Sao Tome and Principe\"],\n",
    "          \"Northern Africa\": [\"Algeria\", \"Egypt\", \"Libya\", \"Morocco\", \"Sudan\", \"Tunisia\", \"Western Sahara\"],\n",
    "          \"Southern Africa\": [\"Botswana\", \"Lesotho\", \"Namibia\", \"South Africa\", \"Swaziland\"],\n",
    "          \"Western Africa\": [\"Benin\", \"Burkina Faso\", \"Cabo Verde\", \"Cape Verde\", \"Cote d'Ivoire\", \"Ivory Coast\", \"Gambia\",\n",
    "                             \"Ghana\", \"Guinea\", \"Guinea-Bissau\", \"Liberia\", \"Mali\", \"Mauritania\", \"Niger\", \"Nigeria\",\n",
    "                             \"Saint Helena\", \"Senegal\", \"Sierra Leone\", \"Togo\"]}\n",
    "\n",
    "Americas = {\"Caribbean\": [\"Anguilla\", \"Antigua\", \"Barbuda\", \"Aruba\", \"Bahamas\", \"Barbados\", \"Bonaire\", \"Saint Eustatius and Saba\",\n",
    "                          \"Virgin Islands, British\", \"Cayman Islands\", \"Cuba\", \"Curacao\", \"Dominica\", \"Dominican Republic\",\n",
    "                          \"Grenada\", \"Guadeloupe\", \"Haiti\", \"Jamaica\", \"Martinique\", \"Montserrat\", \"-Netherlands Antilles\",\n",
    "                          \"Puerto Rico\", \"Saint Barthelemy\", \"Saint Kitts\", \"Nevis\", \"Saint Lucia\", \"Saint Martin\", \"Saint Vincent\",\n",
    "                          \"The Grenadines\", \"Trinidad\", \"Tobago\", \"Turks and Caicos Islands\", \"Virgin Islands, US\"],\n",
    "            \"Central America\": [\"Belize\", \"Costa Rica\", \"El Salvador\", \"Guatemala\", \"Honduras\", \"Mexico\", \"Nicaragua\", \"Panama\"],\n",
    "            \"South America\": [\"Argentina\", \"Bolivia\", \"Brazil\", \"Chile\", \"Colombia\", \"Ecuador\", \"Falkland Islands\", \"Malvinas\",\n",
    "                              \"French Guiana\", \"Guyana\", \"Paraguay\", \"Peru\", \"Suriname\", \"Uruguay\", \"Venezuela\"],\n",
    "            \"North America\": [\"Bermuda\", \"Canada\", \"Greenland\", \"Saint Pierre and Miquelon\", \"United States of America\", \"USA\"]}\n",
    "\n",
    "Asia = {\"Central Asia\": [\"Kazakhstan\", \"Kyrgyzstan\", \"Tajikistan\", \"Turkmenistan\", \"Uzbekistan\"],\n",
    "        \"East Asia\": [\"China\", \"Hong Kong Special Administrative Region of China\", \"Macao Special Administrative Region of China\",\n",
    "                      \"Democratic People's Republic of Korea\", \"North Korea\", \"Japan\", \"Mongolia\", \"Republic of Korea\",\n",
    "                      \"South Korea\", \"Taiwan\"],\n",
    "        \"South Central Asia\": [\"Afghanistan\", \"Bangladesh\", \"Bhutan\", \"India\", \"Iran\", \"Maldives\", \"Nepal\", \"Pakistan\", \"Sri Lanka\"],\n",
    "        \"South East Asia\": [\"Brunei\", \"Cambodia\", \"Indonesia\", \"Laos\", \"Malaysia\", \"Myanmar\", \"Burma\", \"Philippines\", \"Singapore\",\n",
    "                            \"Thailand\", \"Timor-Leste\", \"East Timor\", \"Vietnam\"],\n",
    "        \"Middle East\": [\"Armenia\", \"Azerbaijan\", \"Bahrain\", \"Cyprus\", \"Georgia\", \"Iraq\", \"Israel\", \"Jordan\", \"Kuwait\", \"Lebanon\",\n",
    "                        \"Oman\", \"Palestine\", \"Qatar\", \"Saudi Arabia\", \"Syria\", \"Turkey\", \"United Arab Emirates\", \"Yemen\"]}\n",
    "\n",
    "Europe = {\"Eastern Europe\": [\"Belarus\", \"Bulgaria\", \"Czech Republic\", \"Hungary\", \"Poland\", \"Moldova\", \"Romania\", \"Russia\", \"Slovakia\",\n",
    "                             \"Ukraine\"],\n",
    "          \"Northern Europe\": [\"Denmark\", \"Estonia\", \"Faroe Islands\", \"Finland\", \"Aland Islands\", \"Iceland\", \"Ireland\", \"Latvia\",\n",
    "                              \"Lithuania\", \"Norway\", \"Svalbard and Jan Mayen Islands\", \"Sweden\", \"UK\", \"England\", \"Scotland\", \"Wales\",\n",
    "                              \"Northern Ireland\", \"Isle of Man\", \"Channel Islands\", \"Guernsey\", \"Jersey\", \"Sark\"],\n",
    "          \"Southern Europe\": [\"Albania\", \"Andorra\", \"Bosnia and Herzegovina\", \"Croatia\", \"Gibraltar\", \"Greece\", \"Holy See\", \"Italy\",\n",
    "                              \"Macedonia\", \"Malta\", \"Montenegro\", \"Kosovo\", \"Portugal\", \"San Marino\", \"Serbia\", \"Slovenia\", \"Spain\"],\n",
    "          \"Western Europe\": [\"Austria\", \"Belgium\", \"France\", \"Germany\", \"Liechtenstein\", \"Luxembourg\", \"Monaco\", \"Netherlands\",\n",
    "                             \"Holland\", \"Switzerland\"]}\n",
    "\n",
    "Oceania = {\"Australia and New Zealand\": [\"Australia\", \"New Zealand\", \"Norfolk Island\"],\n",
    "           \"Melanesia\": [\"Fiji\", \"New Caledonia\", \"Papua New Guinea\", \"Solomon Islands\", \"Vanuatu\"],\n",
    "           \"Micronesia\": [\"Guam\", \"Kiribati\", \"Marshall Islands\", \"Micronesia\", \"Nauru\", \"Northern Mariana Islands\", \"Palau\"],\n",
    "           \"Polynesia\": [\"American Samoa\", \"Cook Islands\", \"French Polynesia\", \"Niue\", \"Pitcairn\", \"Samoa\", \"Tokelau\", \"Tonga\",\n",
    "                         \"Tuvalu\", \"Wallis and Futuna Islands\"]}\n",
    "\n",
    "Null = {\"Null\": [\"Individual Olympic Athletes\", \"Refugee Olympic Athletes\", \"Unknown\"]}\n",
    "\n",
    "continents = [Africa, Americas, Asia, Europe, Oceania, Null]\n",
    "continents_lst = [\"Africa\", \"Americas\", \"Asia\", \"Europe\", \"Oceania\", \"Null\"]\n",
    "\n",
    "df_country = pd.DataFrame(columns=['Country', 'Region', 'Continent'])\n",
    "df_country.set_index('Country', inplace=True)\n",
    "\n",
    "for cnt_index, cont_name in enumerate(continents):\n",
    "    for region, countries_lst in cont_name.items():\n",
    "        for cntry in countries_lst:\n",
    "            df_country.loc[cntry] = [region, continents_lst[cnt_index]]"
   ]
  },
  {
   "cell_type": "markdown",
   "metadata": {},
   "source": [
    "### Fill in missing values"
   ]
  },
  {
   "cell_type": "code",
   "execution_count": 5,
   "metadata": {},
   "outputs": [],
   "source": [
    "# insert missing entry for a few countries into df_regions\n",
    "df_regions.loc['SGP'] = ['Singapore', np.nan]\n",
    "df_regions.loc['TUV'] = ['Tuvalu', np.nan]\n",
    "df_regions.loc['ROT'] = ['Refugee Olympic Athletes', np.nan]\n",
    "df_regions.loc['UNK'] = ['Unknown', np.nan]\n",
    "df_regions.loc['BOL'] = ['Bolivia', np.nan]"
   ]
  },
  {
   "cell_type": "markdown",
   "metadata": {},
   "source": [
    "### Add Columns matching values from other dataframes"
   ]
  },
  {
   "cell_type": "code",
   "execution_count": 6,
   "metadata": {
    "collapsed": false,
    "jupyter": {
     "outputs_hidden": false
    }
   },
   "outputs": [],
   "source": [
    "# create a column that matches the country code from df_olymp to the country name in df_regions\n",
    "df_olymp['Country'] = df_olymp['NOC'].apply(lambda x: df_regions.loc[x, 'region'])"
   ]
  },
  {
   "cell_type": "code",
   "execution_count": 7,
   "metadata": {
    "collapsed": false,
    "jupyter": {
     "outputs_hidden": false
    }
   },
   "outputs": [],
   "source": [
    "df_olymp['Area'] = df_olymp['Country'].apply(lambda x: df_country.loc[x, 'Region'])\n",
    "df_olymp['Continent'] = df_olymp['Country'].apply(lambda x: df_country.loc[x, 'Continent'])"
   ]
  },
  {
   "cell_type": "markdown",
   "metadata": {},
   "source": [
    "### Edit & Add Columns"
   ]
  },
  {
   "cell_type": "code",
   "execution_count": 8,
   "metadata": {},
   "outputs": [],
   "source": [
    "# set the null values to 0 so we can change the datatype in column age\n",
    "df_olymp['Age'] = df_olymp['Age'].fillna(0)\n",
    "df_olymp['Age'] = df_olymp['Age'].astype('int64')\n",
    "\n",
    "# insert formula for bmi\n",
    "df_olymp['BMI'] = df_olymp['Weight']/((df_olymp['Height']/100)**2)\n",
    "\n",
    "# change weight to lbs \n",
    "df_olymp['Weight'] = df_olymp['Weight'].fillna(0)\n",
    "df_olymp['Weight'] = (df_olymp['Weight'] * 2.204).round(1)\n",
    "\n",
    "# revert zero values to null values so they're not included in mean calculations later\n",
    "df_olymp.loc[df_olymp['Weight']==0.0, 'Weight'] = np.nan\n",
    "df_olymp['Year'] = df_olymp['Year'].astype('int')\n",
    "\n",
    "# create column for the gender of the event (setting unspecified events to A)\n",
    "df_olymp['Event_gender'] = 'A'\n",
    "womens = df_olymp['Event'].str.contains('Women')\n",
    "df_olymp.loc[womens, 'Event_gender'] = 'F'\n",
    "mens = df_olymp['Event'].str.contains('Men')\n",
    "df_olymp.loc[mens, 'Event_gender'] = 'M'"
   ]
  },
  {
   "cell_type": "code",
   "execution_count": 9,
   "metadata": {},
   "outputs": [],
   "source": [
    "# creating a key for each medal so that it isn't counted more than once\n",
    "# when a team wins that medal\n",
    "df_olymp['Medal_key'] = df_olymp['Medal'] + df_olymp['Games'] + df_olymp['Event'] + df_olymp['Team']"
   ]
  },
  {
   "cell_type": "markdown",
   "metadata": {},
   "source": [
    "The assumption is that if multiple individuals win the gold medal in the same event, at the same games,\n",
    "and on the same 'team'(sometimes a stand in for country)it's is a team event (and they are only one entity\n",
    "in terms of the competition)\n",
    "Occasionally 2 people will win the gold medal in the same event/same team (like in gymnastics, for instance)\n",
    "but were competing as individuals. \n",
    "We subtract the number of times that has occured from the total number of years the event has been held\n",
    "to remove those exceptions."
   ]
  },
  {
   "cell_type": "code",
   "execution_count": 39,
   "metadata": {},
   "outputs": [],
   "source": [
    "df_olymp['Ind_or_team'] = 'individual'\n",
    "\n",
    "# Year is included in the groupby bc sometimes 2 teams will win the gold medal the same year\n",
    "# and we later want to be able to count the number of unique years that multiple people on the same team\n",
    "grp_medals = df_olymp.loc[(df_olymp['Medal']=='Gold')].groupby(['Event', 'Medal_key', 'Year'])[['Name']].nunique().reset_index()\n",
    "multiple_players = grp_medals[grp_medals['Name']>1].groupby('Event')[['Year']].nunique().rename(columns={'Year': 'Years_multiple_players'})\n",
    "event_held = df_olymp.groupby('Event')[['Year']].nunique().rename(columns={'Year': 'Total_years'})\n",
    "grp_years = pd.merge(multiple_players, event_held, on='Event')\n",
    "grp_years = grp_years.loc[~(grp_years['Total_years']-grp_years['Years_multiple_players']>1)]\n",
    "\n",
    "team_sports = list(grp_years.index)\n",
    "df_olymp.loc[df_olymp['Event'].isin(team_sports), ['Ind_or_team']] = 'team'\n",
    "\n",
    "# # creating a 'competitor key' to discern every competition entity\n",
    "# # so that if someone is competing as an individual in an event, they have their own\n",
    "# # competitor key for that event, if a team is playing, each of those players has the same 'competitor_key'\n",
    "df_olymp['temp_name'] = df_olymp['Name']\n",
    "df_olymp.loc[df_olymp['Ind_or_team']=='team', 'temp_name'] = ''\n",
    "df_olymp['Competitor_key'] = df_olymp['Country'] + df_olymp['Games'] + df_olymp['Event'] + df_olymp['Team'] + df_olymp['temp_name']\n",
    "df_olymp.drop(columns=['temp_name'], inplace=True)"
   ]
  },
  {
   "cell_type": "code",
   "execution_count": 38,
   "metadata": {},
   "outputs": [
    {
     "data": {
      "text/plain": [
       "221"
      ]
     },
     "execution_count": 38,
     "metadata": {},
     "output_type": "execute_result"
    }
   ],
   "source": [
    "# old version\n",
    "\n",
    "df_olymp['Ind_or_team'] = 'individual'\n",
    "# # counting the number of countries that won a gold medal and then the number of individuals w/in that country\n",
    "# # so we can set an event as a team sport if there was only 1 country and multiple individuals winning the same\n",
    "# # gold medal\n",
    "# # so obviously the stuff below can be simplified atleast one step after I added Team to the 'Medal_key'\n",
    "grp_medals = df_olymp.loc[(df_olymp['Medal']=='Gold')].groupby(['Event', 'Medal_key'])[['Team', 'Name', 'Year']].nunique()\n",
    "teams = grp_medals.loc[((grp_medals['Team']==1)&(grp_medals['Name']>1))|((grp_medals['Team']>1)&(grp_medals['Name']>3))].groupby('Event').count()\n",
    "just_year = df_olymp.groupby('Event')[['Year']].nunique()\n",
    "both_grps = pd.merge(teams, just_year, on='Event')\n",
    "both_grps = both_grps.loc[~(both_grps['Year_y']-both_grps['Year_x']>1)]\n",
    "\n",
    "team_sports = list(both_grps.index)\n",
    "len(team_sports)\n",
    "# # df_olymp.loc[df_olymp['Event'].isin(team_sports), ['Ind_or_team']] = 'team'\n",
    "\n",
    "# # # creating a 'competitor key' to discern every competition entity (like if someone is competing as an individual in an event, they have their own\n",
    "# # # competitor key, if a team is playing, each of those players has the same 'competitor_key'\n",
    "# # df_olymp['Name_a'] = df_olymp['Name']\n",
    "# # df_olymp.loc[df_olymp['Ind_or_team']=='team', 'Name_a'] = ''\n",
    "# # df_olymp['Competitor_key'] = df_olymp['Country'] + df_olymp['Games'] + df_olymp['Event'] + df_olymp['Team'] + df_olymp['Name_a']"
   ]
  },
  {
   "cell_type": "code",
   "execution_count": null,
   "metadata": {},
   "outputs": [],
   "source": []
  },
  {
   "cell_type": "markdown",
   "metadata": {},
   "source": [
    "team often has to do with the country, but multiple teams from the same country can compete in the same event (like archery teams, or tennis doubles)"
   ]
  },
  {
   "cell_type": "code",
   "execution_count": null,
   "metadata": {},
   "outputs": [],
   "source": [
    "# team_competitors = df_olymp.loc[(df_olymp['Year']==2008)&(df_olymp['Ind_or_team']=='team')].groupby(['Country', 'Team'])[['Event']].nunique()\n",
    "# ind_competitors = df_olymp.loc[(df_olymp['Year']==2008)&(df_olymp['Ind_or_team']=='individual')].groupby('Country')[['Name']].count()\n",
    "# team_competitors\n",
    "\n",
    "# df_olymp.pivot_table(columns=[\n",
    "# team_competitors.groupby('Country').sum()\n",
    "\n",
    "grp_country = df_olymp.loc[df_olymp['Year']==2008].groupby(['Area', 'Country'])[['Event','Competitor_key', 'Name', 'Medal_key']].nunique()\n",
    "grp_country['Wins_per_competitor'] = grp_country['Medal_key']/grp_country['Competitor_key']\n",
    "# grp_country.sort_values('Wins_per_competitor')\n",
    "grp_country"
   ]
  },
  {
   "cell_type": "code",
   "execution_count": null,
   "metadata": {},
   "outputs": [],
   "source": [
    "df_summer = df_olymp[df_olymp['Games'].str.contains('Summer')]"
   ]
  },
  {
   "cell_type": "code",
   "execution_count": null,
   "metadata": {},
   "outputs": [],
   "source": [
    "pd.options.display.max_columns = 100"
   ]
  },
  {
   "cell_type": "code",
   "execution_count": null,
   "metadata": {},
   "outputs": [],
   "source": [
    "df_summer.loc[df_summer['Country'] == 'USA'].pivot_table(index='Year', columns='Sport', values=['Event', 'Competitor_key'], aggfunc='nunique')"
   ]
  },
  {
   "cell_type": "code",
   "execution_count": null,
   "metadata": {},
   "outputs": [],
   "source": [
    "proportion of that countries competitors that are in that specific sport\n",
    "and the proportion of that specific sports competitors that are from that country"
   ]
  },
  {
   "cell_type": "code",
   "execution_count": null,
   "metadata": {},
   "outputs": [],
   "source": [
    "df_trial = df_summer.loc[(df_summer['Sport']=='Gymnastics')&(df_summer['Medal'].notnull())&(df_summer['Year']==2000)]\n",
    "pv_medals = df_summer.pivot_table(index='Country', columns='Medal', values='Medal_key', aggfunc='nunique', margins=True)\n",
    "pv_medals.sort_values(by='Gold')"
   ]
  },
  {
   "cell_type": "markdown",
   "metadata": {},
   "source": [
    "### Dictionaries for graph formatting"
   ]
  },
  {
   "cell_type": "code",
   "execution_count": null,
   "metadata": {},
   "outputs": [],
   "source": [
    "sctr = {'sz': (15,7.5), 'tfont': 21, 'xlabl': 'Year', 'xfont': 14, 'ylabl': 'BMI',\n",
    "        'yfont': 14, 's': 30, 'colors': ['b', 'g', 'y', 'purple', 'orange', 'teal'],\n",
    "        'alpha': .7}\n",
    "\n",
    "ln = {'sz': (12,6), 'lnstl': ['solid','dashed'], 'width': 2, 'colors': ['g', 'purple'],\n",
    "      'lfont': 10, 'l_labls': ['Female BMI', 'Female Age', 'Male BMI', 'Male Age'],\n",
    "      'xlabl': 'Year', 'tfont': 18}\n",
    "\n",
    "br = {'sz': (20,10), 'tfnt': 22, 'xlbl': 'Year', 'xfnt': 14.5, 'ylbl': 'Number of Events',\n",
    "      'yfnt': 14.5, 'c_a': ['#bfbfbf', '#93f081', '#4d009a'],\n",
    "      'l_labls': [\"Non-Gendered\", \"Women's\", \"Men's\"], 'l_font': 12}\n",
    "\n",
    "colorz = viridis(6)"
   ]
  },
  {
   "cell_type": "markdown",
   "metadata": {},
   "source": [
    "# Summer"
   ]
  },
  {
   "cell_type": "code",
   "execution_count": null,
   "metadata": {},
   "outputs": [],
   "source": [
    "df_summer = df_olymp[df_olymp['Games'].str.contains('Summer')]"
   ]
  },
  {
   "cell_type": "markdown",
   "metadata": {},
   "source": [
    "## Athlete Counts and Gender Proportions by Sport"
   ]
  },
  {
   "cell_type": "code",
   "execution_count": null,
   "metadata": {
    "collapsed": false,
    "jupyter": {
     "outputs_hidden": false
    }
   },
   "outputs": [],
   "source": [
    "# the number and percentages of women in sports\n",
    "pv_summer = df_summer.pivot_table(index=df_summer['Sport'], columns='Sex', values='Name', aggfunc='nunique')\n",
    "pv_summer.fillna(0, inplace=True)\n",
    "pv_summer['Total'] = pv_summer.sum(axis=1)\n",
    "pv_summer['%F'] = pv_summer['F']/pv_summer['Total']\n",
    "pv_summer[['M', 'F', 'Total']] = pv_summer[['M', 'F', 'Total']].astype('int')\n",
    "pv_summer.style.format({'%F': '{:.2%}'})"
   ]
  },
  {
   "cell_type": "code",
   "execution_count": null,
   "metadata": {
    "collapsed": false,
    "jupyter": {
     "outputs_hidden": false
    }
   },
   "outputs": [],
   "source": [
    "# top six sports played by women in terms of numbers of players\n",
    "highest_num = list(pv_summer.sort_values(by='F', ascending=False).head(6).index)\n",
    "\n",
    "# top five sports in terms of highest percentage of women\n",
    "highest_perc = pv_summer.sort_values(by='%F', ascending=False).head(11)\n",
    "left_out = highest_perc.index.isin(['Softball', 'Rugby Sevens', 'Triathlon', 'Taekwondo', 'Trampolining'])\n",
    "highest_perc = highest_perc.loc[~left_out]\n",
    "\n",
    "highest_perc = list(highest_perc.index)\n",
    "\n",
    "both_women = highest_num + highest_perc"
   ]
  },
  {
   "cell_type": "markdown",
   "metadata": {},
   "source": [
    "## Average BMI for Most Common Womens' Sports"
   ]
  },
  {
   "cell_type": "code",
   "execution_count": null,
   "metadata": {
    "collapsed": false,
    "jupyter": {
     "outputs_hidden": false
    }
   },
   "outputs": [],
   "source": [
    "top_sprt = df_olymp['Sport'].isin(both_women)\n",
    "sx_f = df_olymp['Sex'] == 'F'\n",
    "yr_64 = df_olymp['Year'] >= 1964\n",
    "\n",
    "df_high_women = df_olymp[top_sprt & sx_f & yr_64]\n",
    "\n",
    "pv_high_women = df_high_women.pivot_table(index=df_high_women['Year'], columns='Sport', values='BMI', aggfunc='mean')\n",
    "pv_high_women['Year'] = pv_high_women.index"
   ]
  },
  {
   "cell_type": "markdown",
   "metadata": {},
   "source": [
    "### Sports with Highest Number of Women"
   ]
  },
  {
   "cell_type": "code",
   "execution_count": null,
   "metadata": {
    "collapsed": false,
    "jupyter": {
     "outputs_hidden": false
    }
   },
   "outputs": [],
   "source": [
    "fig, ax = plt.subplots(figsize=sctr['sz'])\n",
    "\n",
    "for counter, sport in enumerate(highest_num):\n",
    "    ax.scatter(x=pv_high_women['Year'], y=pv_high_women[sport], color=colorz[counter], s=sctr['s'], label=sport, alpha=sctr['alpha'])\n",
    "\n",
    "plt.title(\"Women's Average BMI by Year\", fontsize=sctr['tfont'])\n",
    "plt.xlabel(sctr['xlabl'], fontsize=sctr['xfont'])\n",
    "plt.ylabel(sctr['ylabl'], fontsize=sctr['yfont'])\n",
    "plt.legend()\n",
    "\n",
    "plt.show()"
   ]
  },
  {
   "cell_type": "code",
   "execution_count": null,
   "metadata": {
    "collapsed": false,
    "jupyter": {
     "outputs_hidden": false
    }
   },
   "outputs": [],
   "source": [
    "#### current experiment\n",
    "fig, ax = plt.subplots(figsize=(24,16))\n",
    "\n",
    "for counter, sport in enumerate(highest_num):\n",
    "    spec_sport_df = df_high_women[df_high_women['Sport']==sport]\n",
    "    ax.scatter(x=spec_sport_df['Year'], y=spec_sport_df['BMI'], color=colorz[counter], s=3, label=sport, alpha=.4)\n",
    "\n",
    "plt.ylim(bottom=14, top=41)\n",
    "plt.title(\"Women's Average BMI by Year\", fontsize=sctr['tfont'])\n",
    "plt.xlabel(sctr['xlabl'], fontsize=sctr['xfont'])\n",
    "plt.ylabel(sctr['ylabl'], fontsize=sctr['yfont'])\n",
    "plt.legend()\n",
    "\n",
    "plt.show()"
   ]
  },
  {
   "cell_type": "markdown",
   "metadata": {},
   "source": [
    "### Sports with Highest Percentage Women"
   ]
  },
  {
   "cell_type": "code",
   "execution_count": null,
   "metadata": {
    "collapsed": false,
    "jupyter": {
     "outputs_hidden": false
    }
   },
   "outputs": [],
   "source": [
    "pv_high_women_80 = pv_high_women.loc[pv_high_women['Year']>=1988]\n",
    "\n",
    "fig, ax = plt.subplots(figsize=sctr['sz'])\n",
    "\n",
    "for counter, sport in enumerate(highest_perc):\n",
    "    ax.scatter(x=pv_high_women_80['Year'], y=pv_high_women_80[sport], color=colorz[counter], alpha=sctr['alpha'],label=sport,\n",
    "               s=sctr['s'])\n",
    "\n",
    "plt.title(\"Women's Average BMI by Year\", fontsize=sctr['tfont'])\n",
    "plt.xlabel(sctr['xlabl'], fontsize=sctr['xfont'])\n",
    "plt.ylabel(sctr['ylabl'], fontsize=sctr['yfont'])\n",
    "ax.legend()\n",
    "\n",
    "plt.show()"
   ]
  },
  {
   "cell_type": "markdown",
   "metadata": {},
   "source": [
    "## Gymnastics Average Age & BMI by Gender"
   ]
  },
  {
   "cell_type": "code",
   "execution_count": null,
   "metadata": {},
   "outputs": [],
   "source": [
    "fix_age = df_olymp['Age'] > 0"
   ]
  },
  {
   "cell_type": "code",
   "execution_count": null,
   "metadata": {
    "collapsed": false,
    "jupyter": {
     "outputs_hidden": false
    }
   },
   "outputs": [],
   "source": [
    "df_gym = df_olymp.loc[(df_olymp['Sport']=='Gymnastics')&(df_olymp['Year']>=1936) & fix_age]\n",
    "\n",
    "pv_gym = df_gym.pivot_table(index=df_gym['Year'], columns='Sex', values=['BMI', 'Age'], aggfunc='mean')\n",
    "\n",
    "pv_gym = pv_gym.loc[:,['BMI', 'Age']]\n",
    "pv_gym"
   ]
  },
  {
   "cell_type": "code",
   "execution_count": null,
   "metadata": {
    "collapsed": false,
    "jupyter": {
     "outputs_hidden": false
    }
   },
   "outputs": [],
   "source": [
    "ax1 = pv_gym['BMI']['F'].plot.line(figsize=ln['sz'], linestyle=ln['lnstl'][0], linewidth=ln['width'], color=ln['colors'][0])\n",
    "pv_gym['Age']['F'].plot.line(linestyle=ln['lnstl'][1], linewidth=ln['width'], color=ln['colors'][0], ax=ax1)\n",
    "pv_gym['BMI']['M'].plot.line(linestyle=ln['lnstl'][0], linewidth=ln['width'], color=ln['colors'][1], ax=ax1)\n",
    "pv_gym['Age']['M'].plot.line(linestyle=ln['lnstl'][1], linewidth=ln['width'], color=ln['colors'][1], ax=ax1)\n",
    "plt.title('Gymnastics Average Age & BMI by Gender', fontsize=ln['tfont'])\n",
    "plt.legend(ncol=2, labels=ln['l_labls'])\n",
    "\n",
    "plt.show()                 "
   ]
  },
  {
   "cell_type": "markdown",
   "metadata": {},
   "source": [
    "## Volleyball Average Age & BMI by Gender"
   ]
  },
  {
   "cell_type": "code",
   "execution_count": null,
   "metadata": {
    "collapsed": false,
    "jupyter": {
     "outputs_hidden": false
    }
   },
   "outputs": [],
   "source": [
    "# df_vol = df_olymp[df_olymp['Sport']=='Volleyball']\n",
    "df_vol = df_olymp.loc[(df_olymp['Sport']=='Volleyball') & fix_age]\n",
    "pv_vol = df_vol.pivot_table(index=df_vol['Year'], columns='Sex', values=['BMI', 'Age'], aggfunc='mean')\n",
    "pv_vol = pv_vol[['BMI', 'Age']]\n",
    "pv_vol"
   ]
  },
  {
   "cell_type": "code",
   "execution_count": null,
   "metadata": {
    "collapsed": false,
    "jupyter": {
     "outputs_hidden": false
    }
   },
   "outputs": [],
   "source": [
    "ax1 = pv_vol['BMI']['F'].plot.line(figsize=ln['sz'], linestyle=ln['lnstl'][0], linewidth=ln['width'], color=ln['colors'][0])\n",
    "pv_vol['Age']['F'].plot.line(linestyle=ln['lnstl'][1], linewidth=ln['width'], color=ln['colors'][0], ax=ax1)\n",
    "pv_vol['BMI']['M'].plot.line(linestyle=ln['lnstl'][0], linewidth=ln['width'], color=ln['colors'][1], ax=ax1)\n",
    "pv_vol['Age']['M'].plot.line(linestyle=ln['lnstl'][1], linewidth=ln['width'], color=ln['colors'][1], ax=ax1)\n",
    "\n",
    "plt.title('Volleyball Average Age & BMI by Gender', fontsize=ln['tfont'])\n",
    "plt.ylabel('BMI / Age')\n",
    "plt.legend(fontsize=ln['lfont'], labels=ln['l_labls'], ncol=2)\n",
    "\n",
    "plt.show()"
   ]
  },
  {
   "cell_type": "markdown",
   "metadata": {},
   "source": [
    "# Winter"
   ]
  },
  {
   "cell_type": "markdown",
   "metadata": {},
   "source": [
    "## Counts & Percentages of Women by Sport"
   ]
  },
  {
   "cell_type": "code",
   "execution_count": null,
   "metadata": {
    "collapsed": false,
    "jupyter": {
     "outputs_hidden": false
    }
   },
   "outputs": [],
   "source": [
    "# the counts and percentages of women in sports\n",
    "pv_winter = df_winter.pivot_table(index=df_winter['Sport'], columns='Sex', values='Name', aggfunc='nunique')\n",
    "pv_winter.fillna(0, inplace=True)\n",
    "pv_winter['Total'] = pv_winter.sum(axis=1)\n",
    "pv_winter['%F'] = pv_winter['F']/pv_winter['Total']\n",
    "pv_winter[['F', 'M', 'Total']] = pv_winter[['F', 'M', 'Total']].astype('int')\n",
    "pv_winter.style.format({'%F': '{:.2%}'})"
   ]
  },
  {
   "cell_type": "markdown",
   "metadata": {},
   "source": [
    "## Average BMI in Most Common Women's Sports"
   ]
  },
  {
   "cell_type": "code",
   "execution_count": null,
   "metadata": {},
   "outputs": [],
   "source": [
    "high_num_w = list(pv_winter.sort_values(by='F', ascending=False).head(4).index)\n",
    "\n",
    "high_perc_w = pv_winter.sort_values(by='%F', ascending=False)\n",
    "excluded = high_perc_w.index.isin(['Curling', 'Freestyle Skiing', 'Short Track Speed Skating', 'Snowboarding'])\n",
    "high_perc_w = list(high_perc_w.loc[~excluded].head(3).index)\n",
    "both_wom_w = high_num_w + high_perc_w\n",
    "\n",
    "pv_winter_women = df_olymp[(df_olymp['Sport'].isin(both_wom_w))&(df_olymp['Year'] >= 1952)]\n",
    "pv_winter_women = pv_winter_women.pivot_table(index='Year', columns='Sport', values='BMI', aggfunc='mean')\n",
    "wint_sports = pv_winter_women.columns\n",
    "pv_winter_women['Year'] = pv_winter_women.index\n",
    "pv_winter_women"
   ]
  },
  {
   "cell_type": "code",
   "execution_count": null,
   "metadata": {
    "collapsed": false,
    "jupyter": {
     "outputs_hidden": false
    }
   },
   "outputs": [],
   "source": [
    "fig, ax = plt.subplots(figsize=sctr['sz'])\n",
    "\n",
    "for counter, sport in enumerate(wint_sports):\n",
    "    ax.scatter(x=pv_winter_women['Year'], y=pv_winter_women[sport], color=sctr['colors'][counter], alpha=sctr['alpha'], s=sctr['s'],\n",
    "               label=sport)\n",
    "\n",
    "plt.title(\"Average BMI in Most Common Womens' Sports (Winter)\", fontsize=sctr['tfont'])\n",
    "plt.xlabel(sctr['xlabl'], fontsize=sctr['xfont'])\n",
    "plt.ylabel(sctr['ylabl'], fontsize=sctr['yfont'])\n",
    "plt.legend()\n",
    "\n",
    "plt.show()"
   ]
  },
  {
   "cell_type": "code",
   "execution_count": null,
   "metadata": {
    "collapsed": false,
    "jupyter": {
     "outputs_hidden": false
    }
   },
   "outputs": [],
   "source": [
    "\n",
    "columns_list = [col_name for col_name in pv_winter_women.columns if col_name != \"Year\"]\n",
    "pv_winter_women[columns_list].plot.line(color=sctr['colors'])\n",
    "\n",
    "plt.show()"
   ]
  },
  {
   "cell_type": "markdown",
   "metadata": {},
   "source": [
    "## Speed Skating Average Age & BMI by Gender"
   ]
  },
  {
   "cell_type": "code",
   "execution_count": null,
   "metadata": {
    "collapsed": false,
    "jupyter": {
     "outputs_hidden": false
    }
   },
   "outputs": [],
   "source": [
    "af_64 = df_olymp['Year'] >= 1964\n",
    "sp_sk = df_olymp['Sport'] == 'Speed Skating'\n",
    "df_skate = df_olymp[af_64 & sp_sk & fix_age]\n",
    "\n",
    "pv_skate = df_skate.pivot_table(index=df_skate['Year'], columns='Sex', values=['BMI', 'Age'], aggfunc='mean')\n",
    "\n",
    "pv_skate = pv_skate[['BMI', 'Age']]\n",
    "pv_skate"
   ]
  },
  {
   "cell_type": "code",
   "execution_count": null,
   "metadata": {
    "collapsed": false,
    "jupyter": {
     "outputs_hidden": false
    }
   },
   "outputs": [],
   "source": [
    "ax1 = pv_skate['BMI']['F'].plot.line(figsize=ln['sz'], linestyle=ln['lnstl'][0], linewidth=ln['width'], color=ln['colors'][0])\n",
    "pv_skate['Age']['F'].plot.line(linestyle=ln['lnstl'][1], linewidth=ln['width'], color=ln['colors'][0], ax=ax1)\n",
    "pv_skate['BMI']['M'].plot.line(linestyle=ln['lnstl'][0], linewidth=ln['width'], color=ln['colors'][1], ax=ax1)\n",
    "pv_skate['Age']['M'].plot.line(linestyle=ln['lnstl'][1], linewidth=ln['width'], color=ln['colors'][1], ax=ax1)\n",
    "plt.title('Speed Skating Average Age & BMI by Gender', fontsize=ln['tfont'])\n",
    "plt.legend(fontsize=ln['lfont'], labels=ln['l_labls'], ncol=2)\n",
    "plt.show()"
   ]
  },
  {
   "cell_type": "markdown",
   "metadata": {},
   "source": [
    "## Cross Country Skiing Average Age & BMI by Gender"
   ]
  },
  {
   "cell_type": "code",
   "execution_count": null,
   "metadata": {
    "collapsed": false,
    "jupyter": {
     "outputs_hidden": false
    }
   },
   "outputs": [],
   "source": [
    "df_ski = df_olymp[(df_olymp['Sport']=='Cross Country Skiing') & fix_age]\n",
    "pv_ski = df_ski.pivot_table(index=df_ski['Year'], columns='Sex', values=['BMI', 'Age'], aggfunc='mean')\n",
    "pv_ski['Year'] = pv_ski.index\n",
    "pv_ski = pv_ski[pv_ski['Year'] >= 1960] \n",
    "pv_ski = pv_ski[['BMI', 'Age']]\n",
    "\n",
    "pv_ski"
   ]
  },
  {
   "cell_type": "code",
   "execution_count": null,
   "metadata": {
    "collapsed": false,
    "jupyter": {
     "outputs_hidden": false
    }
   },
   "outputs": [],
   "source": [
    "ax1 = pv_ski['BMI']['F'].plot.line(figsize=ln['sz'], linestyle=ln['lnstl'][0], linewidth=ln['width'], color=ln['colors'][0])\n",
    "pv_ski['Age']['F'].plot.line(linestyle=ln['lnstl'][1], linewidth=ln['width'], color=ln['colors'][0], ax=ax1)\n",
    "pv_ski['BMI']['M'].plot.line(linestyle=ln['lnstl'][0], linewidth=ln['width'], color=ln['colors'][1], ax=ax1)\n",
    "pv_ski['Age']['M'].plot.line(linestyle=ln['lnstl'][1], linewidth=ln['width'], color=ln['colors'][1], ax=ax1)\n",
    "plt.title('Cross Country Skiing Average Age & BMI by Gender', fontsize=ln['tfont'])\n",
    "plt.legend(fontsize=ln['lfont'], labels=ln['l_labls'], ncol=2)\n",
    "plt.show()"
   ]
  },
  {
   "cell_type": "markdown",
   "metadata": {},
   "source": [
    "# Both Seasons"
   ]
  },
  {
   "cell_type": "markdown",
   "metadata": {},
   "source": [
    "## Event Gender Percentages"
   ]
  },
  {
   "cell_type": "code",
   "execution_count": null,
   "metadata": {
    "collapsed": false,
    "jupyter": {
     "outputs_hidden": false
    }
   },
   "outputs": [],
   "source": [
    "# pivot table of the number of events by gender\n",
    "pv_gen_event = df_olymp.pivot_table(index=df_olymp['Games'], columns='Gender', values='Event', aggfunc='nunique')\n",
    "colz = pv_gen_event.columns\n",
    "pv_gen_event['Total'] = pv_gen_event.sum(axis=1)\n",
    "\n",
    "for col in colz:\n",
    "    pv_gen_event[col] = (pv_gen_event[col]/pv_gen_event['Total'])*100\n",
    "\n",
    "pv_gen_event = pv_gen_event[colz]\n",
    "\n",
    "# bar graph of the number of different mens/womens events\n",
    "ax = pv_gen_event.plot.bar(figsize=(20,10), color=['#b1b1b1', '#9BF28A', '#A490E6'], width=.85)\n",
    "plt.title('Percentages of Events by Gender', fontsize=22)\n",
    "plt.xticks(rotation=60, ha='right')\n",
    "ax.yaxis.set_major_formatter(mtick.PercentFormatter())\n",
    "plt.ylim(top=102)\n",
    "plt.legend(labels=br['l_labls'], fontsize=br['l_font'])\n",
    "plt.show()"
   ]
  },
  {
   "cell_type": "markdown",
   "metadata": {},
   "source": [
    "## Summer`"
   ]
  },
  {
   "cell_type": "code",
   "execution_count": null,
   "metadata": {
    "collapsed": false,
    "jupyter": {
     "outputs_hidden": false
    }
   },
   "outputs": [],
   "source": [
    "# makes lists of just the years\n",
    "pv_summer_event = df_summer.pivot_table(index='Year', columns='Gender', values='Event', aggfunc='nunique')\n",
    "years_summer = list(pv_summer_event.index)"
   ]
  },
  {
   "cell_type": "code",
   "execution_count": null,
   "metadata": {
    "collapsed": false,
    "jupyter": {
     "outputs_hidden": false
    }
   },
   "outputs": [],
   "source": [
    "# BAR GRAPH FOR SUMMER EVENTS\n",
    "pv_summer_event.plot.bar(figsize=br['sz'], color=br['c_a'], width=.9)\n",
    "plt.title('Summer Game Events by Gender', fontsize=br['tfnt'])\n",
    "plt.xlabel(br['xlbl'], fontsize=br['xfnt'])\n",
    "plt.ylabel(br['ylbl'], fontsize=br['yfnt'])\n",
    "# set xtick locations with numpy.arange (evenly spaced points between 0 up to (but not including) the len(list)\n",
    "# then it sets the labels as the without summer list that was generated in the cell above\n",
    "plt.xticks(np.arange(0, (len(pv_summer_event.index))), years_summer, rotation=35, ha='center', fontsize=12)\n",
    "plt.legend(labels=br['l_labls'], fontsize=br['l_font'])\n",
    "plt.show()"
   ]
  },
  {
   "cell_type": "code",
   "execution_count": null,
   "metadata": {
    "collapsed": false,
    "jupyter": {
     "outputs_hidden": false
    }
   },
   "outputs": [],
   "source": [
    "# AREA GRAPH FOR SUMMER EVENTS BY GENDER\n",
    "pv_summer_event.plot.area(figsize=br['sz'], color=br['c_a'])\n",
    "plt.title('Summer Game Events by Gender', fontsize=br['tfnt'])\n",
    "plt.xlabel(br['xlbl'], fontsize=br['xfnt'])\n",
    "plt.ylabel(br['ylbl'], fontsize=br['yfnt'])\n",
    "plt.legend(labels=br['l_labls'], fontsize=br['l_font'])\n",
    "plt.show()"
   ]
  },
  {
   "cell_type": "markdown",
   "metadata": {},
   "source": [
    "## Winter"
   ]
  },
  {
   "cell_type": "code",
   "execution_count": null,
   "metadata": {},
   "outputs": [],
   "source": [
    "pv_winter_event = df_winter.pivot_table(index='Year', columns='Gender', values='Event', aggfunc='nunique')\n",
    "years_winter = list(pv_winter_event.index)"
   ]
  },
  {
   "cell_type": "code",
   "execution_count": null,
   "metadata": {
    "collapsed": false,
    "jupyter": {
     "outputs_hidden": false
    }
   },
   "outputs": [],
   "source": [
    "# BAR GRAPH FOR WINTER EVENTS BY GENDER\n",
    "pv_winter_event.plot.bar(figsize=br['sz'], color=br['c_a'], width=.95)\n",
    "plt.title('Winter Game Events by Gender', fontsize=br['tfnt'])\n",
    "plt.xlabel(br['xlbl'], fontsize=br['xfnt'])\n",
    "plt.ylabel(br['ylbl'], fontsize=br['yfnt'])\n",
    "plt.xticks(np.arange(0, (len(pv_winter_event.index))), years_winter, rotation=0, ha='center', fontsize=12)\n",
    "\n",
    "plt.legend(labels=br['l_labls'], fontsize=br['l_font'])\n",
    "\n",
    "plt.show()"
   ]
  },
  {
   "cell_type": "markdown",
   "metadata": {},
   "source": [
    "## Both Seasons "
   ]
  },
  {
   "cell_type": "markdown",
   "metadata": {},
   "source": [
    "### Competitor Gender Percentages"
   ]
  },
  {
   "cell_type": "code",
   "execution_count": null,
   "metadata": {
    "collapsed": false,
    "jupyter": {
     "outputs_hidden": false
    }
   },
   "outputs": [],
   "source": [
    "# PIVOT TABLE TO COUNT THE NUMBER OF MALE OR FEMALE COMPETITORS IN EACH GAME\n",
    "df_games_pvt = df_olymp.pivot_table(index=df_olymp['Games'], columns=['Sex'], values='Name', aggfunc='nunique', fill_value=0)\n",
    "# df_games_pvt\n",
    "# colz = df_games_pvt.columns\n",
    "df_games_pvt = df_games_pvt.apply(lambda x: x/x.sum(), axis=1)\n",
    "    \n",
    "# df_games_pvt = df_games_pvt[colz]\n",
    "df_games_pvt"
   ]
  },
  {
   "cell_type": "code",
   "execution_count": null,
   "metadata": {
    "collapsed": false,
    "jupyter": {
     "outputs_hidden": false
    }
   },
   "outputs": [],
   "source": [
    "# BAR GRAPH OF Percentage OF COMPETITORS BY GENDER\n",
    "df_games_pvt.plot.bar(figsize=br['sz'], color=['#87EF73', '#4d009a'], width=.8)\n",
    "plt.title('Competitor Gender Percentages', fontsize=br['tfnt'])\n",
    "plt.xlabel(br['xlbl'], fontsize=br['xfnt'])\n",
    "plt.ylabel('Percentage of Total Competitors', fontsize=br['yfnt'])\n",
    "plt.xticks(rotation=70, ha='center')\n",
    "plt.gca().yaxis.set_major_formatter(StrMethodFormatter('{x:.0%}'))\n",
    "plt.legend(labels=['Women', 'Men'], fontsize=br['l_font'])\n",
    "plt.show()"
   ]
  },
  {
   "cell_type": "markdown",
   "metadata": {},
   "source": [
    "## Summer Percentage of Competitors by Gender by Year"
   ]
  },
  {
   "cell_type": "code",
   "execution_count": null,
   "metadata": {
    "collapsed": false,
    "jupyter": {
     "outputs_hidden": false
    }
   },
   "outputs": [],
   "source": [
    "format_dict = {'F%': \"{:.1%}\", 'M%': \"{:.1%}\", 'F % Change': \"{:+.1%}\", 'M % Change': \"{:+.1%}\",\n",
    "               'F ratio % change': \"{:+.1%}\", 'M ratio % change': \"{:+.1%}\"}\n",
    "\n",
    "bu_gn = ['#ccece6','#99d8c9','#66c2a4','#41ae76','#238b45','#006d2c','#074400']\n",
    "rv_pu = ['#3f007d', '#54278f', '#6a51a3', '#807dba', '#9e9ac8', '#bcbddc']\n",
    "grn = ['#003615']\n",
    "\n",
    "bu_gn = ListedColormap(sns.color_palette(bu_gn).as_hex())\n",
    "rv_pu = ListedColormap(sns.color_palette(rv_pu).as_hex())\n",
    "grn = ListedColormap(sns.color_palette(grn).as_hex())\n",
    "\n",
    "pv_summer_athletes = df_summer.pivot_table(index='Year', columns='Sex', values='Name', aggfunc='nunique', fill_value=0)\n",
    "pv_summer_athletes['Total'] = pv_summer_athletes.sum(axis=1)\n",
    "pv_summer_athletes['F%'] = pv_summer_athletes['F']/pv_summer_athletes['Total']\n",
    "pv_summer_athletes['M%'] = pv_summer_athletes['M']/pv_summer_athletes['Total']\n",
    "pv_summer_athletes['F % Change'] = pv_summer_athletes['F'].pct_change()\n",
    "pv_summer_athletes['M % Change'] = pv_summer_athletes['M'].pct_change()\n",
    "\n",
    "### questionable add in\n",
    "pv_summer_athletes['F ratio % change'] = pv_summer_athletes['F%'].pct_change()\n",
    "pv_summer_athletes['M ratio % change'] = pv_summer_athletes['M%'].pct_change()\n",
    "\n",
    "above = pv_summer_athletes['F % Change'].between(0.008,6)\n",
    "below = pv_summer_athletes['F % Change'] < 0\n",
    "\n",
    "pv_summer_athletes = pv_summer_athletes.style\n",
    "pv_summer_athletes = pv_summer_athletes.background_gradient(cmap=grn, subset=pd.IndexSlice[1908, ['F % Change']])\n",
    "pv_summer_athletes = pv_summer_athletes.background_gradient(cmap=bu_gn, subset=pd.IndexSlice[above, ['F % Change']])\n",
    "pv_summer_athletes = pv_summer_athletes.background_gradient(cmap=rv_pu, subset=pd.IndexSlice[below, ['F % Change']])\n",
    "pv_summer_athletes = pv_summer_athletes.format(format_dict)\n",
    "\n",
    "pv_summer_athletes\n",
    "##### change in ratio of percentages"
   ]
  },
  {
   "cell_type": "markdown",
   "metadata": {},
   "source": [
    "## Winter Games Percentage by Gender"
   ]
  },
  {
   "cell_type": "code",
   "execution_count": null,
   "metadata": {
    "collapsed": false,
    "jupyter": {
     "outputs_hidden": false
    }
   },
   "outputs": [],
   "source": [
    "pv_winter_athletes = df_winter.pivot_table(index='Year', columns='Sex', values='Name', aggfunc='nunique')\n",
    "pv_winter_athletes['Total'] = pv_winter_athletes.sum(axis=1)\n",
    "pv_winter_athletes['F%'] = pv_winter_athletes['F']/pv_winter_athletes['Total']\n",
    "pv_winter_athletes['M%'] = pv_winter_athletes['M']/pv_winter_athletes['Total']\n",
    "pv_winter_athletes['F % Change'] = pv_winter_athletes['F'].pct_change()\n",
    "pv_winter_athletes['M % Change'] = pv_winter_athletes['M'].pct_change()\n",
    "\n",
    "pv_winter_athletes = pv_winter_athletes.style.format(format_dict)\n",
    "pv_winter_athletes"
   ]
  },
  {
   "cell_type": "markdown",
   "metadata": {},
   "source": [
    "# Gender Percentages of Competitors in Mixed-gender Sports Events"
   ]
  },
  {
   "cell_type": "markdown",
   "metadata": {},
   "source": [
    "## Summer"
   ]
  },
  {
   "cell_type": "code",
   "execution_count": null,
   "metadata": {
    "collapsed": false,
    "jupyter": {
     "outputs_hidden": false
    }
   },
   "outputs": [],
   "source": [
    "# dataframe only including events that are agendered\n",
    "df_no_gender = df_summer[df_summer['Gender'] == 'A']\n",
    "\n",
    "# pivot table for counting the number of competitors in each nongendered game\n",
    "pv_no_gender = df_no_gender.pivot_table(index='Year', columns='Sex', values='Name', aggfunc='nunique')\n",
    "pv_no_gender['Total'] = pv_no_gender.sum(axis=1)\n",
    "\n",
    "# add columns for the percentage of male or female competitors\n",
    "pv_no_gender['F%'] = pv_no_gender['F']/pv_no_gender['Total']\n",
    "pv_no_gender['M%'] = pv_no_gender['M']/pv_no_gender['Total']\n",
    "\n",
    "pv_no_gender = pv_no_gender.style.format(format_dict)\n",
    "pv_no_gender"
   ]
  },
  {
   "cell_type": "markdown",
   "metadata": {},
   "source": [
    "## Winter"
   ]
  },
  {
   "cell_type": "code",
   "execution_count": null,
   "metadata": {
    "collapsed": false,
    "jupyter": {
     "outputs_hidden": false
    }
   },
   "outputs": [],
   "source": [
    "df_no_gender_w = df_winter[df_winter['Gender'] == 'A']\n",
    "\n",
    "pv_no_gender_w = df_no_gender_w.pivot_table(index='Year', columns='Sex', values='Name', aggfunc='count')\n",
    "pv_no_gender_w['Total'] = pv_no_gender_w.sum(axis=1)\n",
    "\n",
    "pv_no_gender_w['F%'] = pv_no_gender_w['F']/pv_no_gender_w['Total']\n",
    "pv_no_gender_w['M%'] = pv_no_gender_w['M']/pv_no_gender_w['Total']\n",
    "\n",
    "pv_no_gender_w = pv_no_gender_w.style.format(format_dict)\n",
    "pv_no_gender_w"
   ]
  },
  {
   "cell_type": "markdown",
   "metadata": {},
   "source": [
    "# Summer"
   ]
  },
  {
   "cell_type": "markdown",
   "metadata": {},
   "source": [
    "### Percentage of Competitors by Continent"
   ]
  },
  {
   "cell_type": "code",
   "execution_count": null,
   "metadata": {
    "collapsed": false,
    "jupyter": {
     "outputs_hidden": false
    }
   },
   "outputs": [],
   "source": [
    "pv_cont = df_summer.pivot_table(index='Year', columns='Continent', values='Name', aggfunc='count', fill_value=0)\n",
    "colz = pv_cont.columns\n",
    "pv_cont['Total'] = pv_cont.sum(axis=1)\n",
    "\n",
    "pc_colz = []\n",
    "for col_name in colz:\n",
    "    cont_perc = '%s %%F' % col_name\n",
    "    pv_cont[cont_perc] = pv_cont[col_name]/pv_cont['Total']\n",
    "    pc_colz.append(cont_perc)\n",
    "    \n",
    "pv_cont_sty = pv_cont[pc_colz]\n",
    "pv_cont_sty = pv_cont_sty.style.format(\"{:.2%}\")\n",
    "\n",
    "pv_cont_sty"
   ]
  },
  {
   "cell_type": "code",
   "execution_count": null,
   "metadata": {
    "collapsed": false,
    "jupyter": {
     "outputs_hidden": false
    }
   },
   "outputs": [],
   "source": [
    "# AREA GRAPH FOR SUMMER EVENTS BY GENDER\n",
    "pv_cont_cnt = pv_cont[colz]\n",
    "\n",
    "pv_cont_cnt.plot.area(figsize=br['sz'], color=colorz)\n",
    "plt.title('Number of Competitors by Continent', fontsize=br['tfnt'])\n",
    "plt.xlabel(br['xlbl'], fontsize=br['xfnt'])\n",
    "plt.ylabel('Number of Competitors', fontsize=br['yfnt'])\n",
    "plt.legend(fontsize=14)\n",
    "plt.show()"
   ]
  },
  {
   "cell_type": "markdown",
   "metadata": {},
   "source": [
    "### Percentage of Female Competitors by Continent/Year"
   ]
  },
  {
   "cell_type": "code",
   "execution_count": null,
   "metadata": {
    "collapsed": false,
    "jupyter": {
     "outputs_hidden": false
    }
   },
   "outputs": [],
   "source": [
    "pv_mf_ratio = df_summer.pivot_table(index='Year', columns=['Continent', 'Sex'], values='Name', aggfunc='nunique', fill_value=0)\n",
    "\n",
    "cols = ['Africa', 'Americas', 'Asia', 'Europe', 'Oceania']\n",
    "perc_cols = []\n",
    "\n",
    "for col in cols:\n",
    "    col_perc = '%s %%F' % col\n",
    "    pv_mf_ratio[col_perc] = pv_mf_ratio[col]['F']/pv_mf_ratio[col].sum(axis=1)\n",
    "    perc_cols.append(col_perc)\n",
    "\n",
    "all_cols = cols + perc_cols\n",
    "\n",
    "pv_mf_ratio = pv_mf_ratio[all_cols]\n",
    "pv_mf_ratio = pv_mf_ratio.style.format(\"{:.2%}\", subset=perc_cols)\n",
    "pv_mf_ratio"
   ]
  },
  {
   "cell_type": "markdown",
   "metadata": {},
   "source": [
    "### Percentage of Competitors by Gender/Continent/Sport"
   ]
  },
  {
   "cell_type": "code",
   "execution_count": null,
   "metadata": {
    "collapsed": false,
    "jupyter": {
     "outputs_hidden": false
    }
   },
   "outputs": [],
   "source": [
    "mod_summer = df_summer[df_summer['Year'] >= 2000]\n",
    "pv_mod_summer = mod_summer.pivot_table(index='Sport', columns=['Continent', 'Sex'], values='Name', aggfunc='nunique', fill_value=0)\n",
    "\n",
    "pv_mod_summer['Total'] = pv_mod_summer.sum(axis=1)\n",
    "pv_mod_summer['Total %F'] = pv_mod_summer['Africa']['F']+pv_mod_summer['Oceania']['F']+pv_mod_summer['Asia']['F']+pv_mod_summer['Europe']['F']+pv_mod_summer['Americas']['F']+pv_mod_summer['Null']['F']\n",
    "pv_mod_summer['Total %F'] = pv_mod_summer['Total %F']/pv_mod_summer['Total']\n",
    "\n",
    "#for loop to make percentage columns for each continent\n",
    "conts = ['Africa', 'Americas', 'Asia', 'Europe', 'Null', 'Oceania']\n",
    "perc_conts = []\n",
    "\n",
    "for cont in conts:\n",
    "    cont_perc = '%s %%F' % cont\n",
    "    pv_mod_summer[cont_perc] = pv_mod_summer[cont]['F']/pv_mod_summer[cont].sum(axis=1)\n",
    "    perc_conts.append(cont_perc)\n",
    "\n",
    "total_columns = ['Total %F']\n",
    "all_columns = conts + perc_conts + total_columns\n",
    "percs = perc_conts + total_columns\n",
    "\n",
    "pv_mod_summer = pv_mod_summer[all_columns]\n",
    "\n",
    "pv_mod_summer.style.format(\"{:.2%}\", subset=percs)"
   ]
  },
  {
   "cell_type": "code",
   "execution_count": null,
   "metadata": {
    "collapsed": false,
    "jupyter": {
     "outputs_hidden": false
    }
   },
   "outputs": [],
   "source": [
    "pv_reg = mod_summer.pivot_table(index=['Continent','Area'], columns=['Year', 'Sex'], values='Name', aggfunc='nunique')\n",
    "pv_reg"
   ]
  },
  {
   "cell_type": "markdown",
   "metadata": {},
   "source": [
    "# Winter"
   ]
  },
  {
   "cell_type": "markdown",
   "metadata": {},
   "source": [
    "### Percentage of Competitors by Continent"
   ]
  },
  {
   "cell_type": "code",
   "execution_count": null,
   "metadata": {
    "collapsed": false,
    "jupyter": {
     "outputs_hidden": false
    }
   },
   "outputs": [],
   "source": [
    "pv_cont_w = df_winter.pivot_table(index='Year', columns='Continent', values='Name', aggfunc='nunique', fill_value=0)\n",
    "pv_cont_w['Total'] = pv_cont_w.sum(axis=1)\n",
    "\n",
    "cols = ['Africa', 'Americas',  'Asia',  'Europe', 'Null', 'Oceania']\n",
    "\n",
    "for col_name in pv_cont_w.columns:\n",
    "    pv_cont_w[col_name] = pv_cont_w[col_name]/pv_cont_w['Total']\n",
    "    \n",
    "pv_cont_w = pv_cont_w[cols]\n",
    "\n",
    "pv_cont_w.style.format(\"{:.2%}\")"
   ]
  },
  {
   "cell_type": "markdown",
   "metadata": {},
   "source": [
    "### Percentage of Female Competitors by Continent/Year"
   ]
  },
  {
   "cell_type": "code",
   "execution_count": null,
   "metadata": {
    "collapsed": false,
    "jupyter": {
     "outputs_hidden": false
    }
   },
   "outputs": [],
   "source": [
    "pv_mf_ratio_w = df_winter.pivot_table(index='Year', columns=['Continent', 'Sex'], values='Name', aggfunc='nunique', fill_value=0)\n",
    "\n",
    "cols = ['Africa', 'Americas', 'Asia', 'Europe', 'Oceania']\n",
    "perc_cols = []\n",
    "\n",
    "for col in cols:\n",
    "    col_perc = '%s %%F' % col\n",
    "    pv_mf_ratio_w[col_perc] = pv_mf_ratio_w[col]['F']/pv_mf_ratio_w[col].sum(axis=1)\n",
    "    perc_cols.append(col_perc)\n",
    "\n",
    "all_cols = cols + perc_cols\n",
    "\n",
    "pv_mf_ratio_w = pv_mf_ratio_w[all_cols]\n",
    "pv_mf_ratio_w = pv_mf_ratio_w.style.format(\"{:.2%}\", subset=perc_cols)\n",
    "pv_mf_ratio_w"
   ]
  },
  {
   "cell_type": "markdown",
   "metadata": {},
   "source": [
    "### Percentage of Competitors by Gender/Continent/Sport"
   ]
  },
  {
   "cell_type": "code",
   "execution_count": null,
   "metadata": {
    "collapsed": false,
    "jupyter": {
     "outputs_hidden": false
    }
   },
   "outputs": [],
   "source": [
    "mod_winter = df_winter[df_winter['Year'] >= 2000]\n",
    "pv_mod_winter = mod_winter.pivot_table(index='Sport', columns=['Continent', 'Sex'], values='Name', aggfunc='nunique', fill_value=0)\n",
    "\n",
    "pv_mod_winter['Total'] = pv_mod_winter.sum(axis=1)\n",
    "pv_mod_winter['Total %F'] = pv_mod_winter['Africa']['F']+pv_mod_winter['Oceania']['F']+pv_mod_winter['Asia']['F']+pv_mod_winter['Europe']['F']+pv_mod_winter['Americas']['F']\n",
    "pv_mod_winter['Total %F'] = pv_mod_winter['Total %F']/pv_mod_winter['Total']\n",
    "\n",
    "#for loop to make percentage columns for each continent\n",
    "conts = ['Africa', 'Americas', 'Asia', 'Europe', 'Oceania']\n",
    "perc_conts = []\n",
    "\n",
    "for cont in conts:\n",
    "    cont_perc = '%s %%F' % cont\n",
    "    pv_mod_winter[cont_perc] = pv_mod_winter[cont]['F']/pv_mod_winter[cont].sum(axis=1)\n",
    "    perc_conts.append(cont_perc)\n",
    "\n",
    "total_columns = ['Total %F']\n",
    "all_columns = conts + perc_conts + total_columns\n",
    "percs = perc_conts + total_columns\n",
    "\n",
    "pv_mod_winter = pv_mod_winter[all_columns]\n",
    "\n",
    "pv_mod_winter.style.format(\"{:.2%}\", subset=percs)"
   ]
  },
  {
   "cell_type": "code",
   "execution_count": null,
   "metadata": {},
   "outputs": [],
   "source": [
    "#separate gymnastics dataframes by gender\n",
    "gymnasts = df_summer[\"Sport\"].str.contains(\"Gymnastics\")\n",
    "women_only = df_summer[\"Sex\"].str.contains(\"F\")\n",
    "men_only = df_summer[\"Sex\"].str.contains(\"M\")\n",
    "\n",
    "nt_null_age = df_summer[\"Age\"].notnull()\n",
    "nt_null_bmi = df_summer[\"BMI\"].notnull()\n",
    "nt_zero = df_summer[\"Age\"]>0\n",
    "\n",
    "df_gymnast_women = df_summer[gymnasts & women_only & nt_null_age & nt_null_bmi & nt_zero]\n",
    "df_gymnast_men = df_summer[gymnasts & men_only & nt_null_age & nt_null_bmi & nt_zero]"
   ]
  },
  {
   "cell_type": "code",
   "execution_count": null,
   "metadata": {
    "collapsed": false,
    "jupyter": {
     "outputs_hidden": false
    }
   },
   "outputs": [],
   "source": [
    "#scatter plot of Age/BMI in Gymnastics\n",
    "fig, (ax1, ax2) = plt.subplots(1,2, figsize=(20,5))\n",
    "df_gymnast_women.plot.scatter(title=\"Women\", x=\"Age\", y=\"BMI\", ax=ax1)\n",
    "df_gymnast_men.plot.scatter(title=\"Men\", x=\"Age\", y=\"BMI\", ax=ax2)"
   ]
  },
  {
   "cell_type": "code",
   "execution_count": null,
   "metadata": {
    "collapsed": false,
    "jupyter": {
     "outputs_hidden": false
    }
   },
   "outputs": [],
   "source": [
    "X = df_gymnast_women[\"Age\"]\n",
    "y = df_gymnast_women[\"BMI\"]\n",
    "model = sm.OLS(y, X).fit()\n",
    "model.summary()"
   ]
  },
  {
   "cell_type": "code",
   "execution_count": null,
   "metadata": {
    "collapsed": false,
    "jupyter": {
     "outputs_hidden": false
    }
   },
   "outputs": [],
   "source": [
    "X = scipy.stats.zscore(df_gymnast_women[\"Age\"])\n",
    "y = scipy.stats.zscore(df_gymnast_women[\"BMI\"])\n",
    "model = sm.OLS(y, X).fit()\n",
    "model.summary()"
   ]
  },
  {
   "cell_type": "code",
   "execution_count": null,
   "metadata": {
    "collapsed": false,
    "jupyter": {
     "outputs_hidden": false
    }
   },
   "outputs": [],
   "source": [
    "X = df_gymnast_women[\"Age\"]\n",
    "y = df_gymnast_women[\"BMI\"]\n",
    "\n",
    "model = sm.OLS(y, X).fit()\n",
    "\n",
    "model.summary()"
   ]
  },
  {
   "cell_type": "markdown",
   "metadata": {},
   "source": [
    "# predictions"
   ]
  },
  {
   "cell_type": "code",
   "execution_count": null,
   "metadata": {
    "collapsed": false,
    "jupyter": {
     "outputs_hidden": false
    }
   },
   "outputs": [],
   "source": [
    "X = df_gymnast_men[\"Age\"]\n",
    "y = df_gymnast_men[\"BMI\"]\n",
    "\n",
    "model = sm.OLS(y, X).fit()\n",
    "predictions = model.predict(X)\n",
    "\n",
    "model.summary()"
   ]
  },
  {
   "cell_type": "code",
   "execution_count": null,
   "metadata": {},
   "outputs": [],
   "source": []
  }
 ],
 "metadata": {
  "celltoolbar": "Raw Cell Format",
  "kernelspec": {
   "display_name": "Python 3",
   "language": "python",
   "name": "python3"
  },
  "language_info": {
   "codemirror_mode": {
    "name": "ipython",
    "version": 3
   },
   "file_extension": ".py",
   "mimetype": "text/x-python",
   "name": "python",
   "nbconvert_exporter": "python",
   "pygments_lexer": "ipython3",
   "version": "3.7.4"
  }
 },
 "nbformat": 4,
 "nbformat_minor": 4
}
